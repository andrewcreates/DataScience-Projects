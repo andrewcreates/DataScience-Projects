{
 "cells": [
  {
   "cell_type": "code",
   "execution_count": 1,
   "metadata": {},
   "outputs": [],
   "source": [
    "import pandas as pd\n",
    "import numpy as np\n",
    "import seaborn as sns\n",
    "import matplotlib.pyplot as plt\n",
    "%matplotlib inline\n",
    "\n",
    "from collections import Counter\n",
    "\n",
    "pd.options.display.max_columns = None"
   ]
  },
  {
   "cell_type": "code",
   "execution_count": 10,
   "metadata": {},
   "outputs": [],
   "source": [
    "df_pi = pd.read_excel (r'X:\\AC\\Documents\\Datasets\\Bureau of Economic Analysis\\Old\\Personal Income by County.xlsx')\n",
    "df_pipc = pd.read_excel (r'X:\\AC\\Documents\\Datasets\\Bureau of Economic Analysis\\Old\\Personal Income per capita by County.xlsx')\n",
    "\n",
    "df_pi = df_pi.melt(id_vars = df_pi.columns[:5], var_name = 'Year', value_name = 'Total Personal Income').sort_values(by = ['UID','Year']).reset_index(drop=True)\n",
    "df_pipc = df_pipc.melt(id_vars = df_pipc.columns[:5], var_name = 'Year', value_name = 'Personal Income per Capita').sort_values(by = ['UID','Year']).reset_index(drop=True)\n",
    "\n",
    "personal_income_df = df_pi.copy()\n",
    "personal_income_df['Personal Income per Capita'] = df_pipc['Personal Income per Capita']"
   ]
  },
  {
   "cell_type": "code",
   "execution_count": 18,
   "metadata": {},
   "outputs": [],
   "source": [
    "personal_income_df.to_csv(r'X:\\AC\\Documents\\Datasets\\Bureau of Economic Analysis\\2018 Total and Per Capital Personal Income per County.csv')"
   ]
  },
  {
   "cell_type": "code",
   "execution_count": null,
   "metadata": {},
   "outputs": [],
   "source": []
  }
 ],
 "metadata": {
  "kernelspec": {
   "display_name": "Python 3",
   "language": "python",
   "name": "python3"
  },
  "language_info": {
   "codemirror_mode": {
    "name": "ipython",
    "version": 3
   },
   "file_extension": ".py",
   "mimetype": "text/x-python",
   "name": "python",
   "nbconvert_exporter": "python",
   "pygments_lexer": "ipython3",
   "version": "3.7.4"
  }
 },
 "nbformat": 4,
 "nbformat_minor": 2
}
