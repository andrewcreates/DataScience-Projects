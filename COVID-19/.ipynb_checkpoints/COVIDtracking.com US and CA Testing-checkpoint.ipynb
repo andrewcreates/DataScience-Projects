{
 "cells": [
  {
   "cell_type": "code",
   "execution_count": null,
   "metadata": {},
   "outputs": [],
   "source": [
    "#all you're getting from the JHU data is population. Create a dictionary or df to add population to testing df"
   ]
  },
  {
   "cell_type": "code",
   "execution_count": 1,
   "metadata": {},
   "outputs": [],
   "source": [
    "import pandas as pd\n",
    "import numpy as np\n",
    "import seaborn as sns\n",
    "import matplotlib.pyplot as plt\n",
    "%matplotlib inline\n",
    "\n",
    "from collections import Counter\n",
    "from datetime import timedelta\n",
    "\n",
    "pd.options.display.max_columns = None"
   ]
  },
  {
   "cell_type": "code",
   "execution_count": 2,
   "metadata": {},
   "outputs": [],
   "source": [
    "url = 'https://raw.githubusercontent.com/CSSEGISandData/COVID-19/master/csse_covid_19_data/csse_covid_19_time_series/time_series_covid19_confirmed_US.csv'\n",
    "url2 = 'https://raw.githubusercontent.com/CSSEGISandData/COVID-19/master/csse_covid_19_data/csse_covid_19_time_series/time_series_covid19_deaths_US.csv'\n",
    "df_usconf = pd.read_csv(url,error_bad_lines = False)\n",
    "df_usdead = pd.read_csv(url2,error_bad_lines = False)\n",
    "\n",
    "url3 = 'https://covidtracking.com/api/v1/states/daily.csv'\n",
    "df_testing = pd.read_csv(url3,error_bad_lines = False)\n",
    "df_testing = df_testing.rename(columns = {'date':'Date','state':'Province_State'})\n",
    "df_testing[['totalTestResultsIncrease','positiveIncrease','negativeIncrease','totalTestResults','positive','negative']] = df_testing[['totalTestResultsIncrease','positiveIncrease','negativeIncrease','totalTestResults','positive','negative']].fillna(0)"
   ]
  },
  {
   "cell_type": "code",
   "execution_count": 3,
   "metadata": {},
   "outputs": [],
   "source": [
    "to_fix = ['totalTestResultsIncrease','positiveIncrease','negativeIncrease']\n",
    "actual = ['totalTestResults','positive','negative']\n",
    "columns = df_testing.columns\n",
    "def fill_func(states):\n",
    "    \"\"\"Checks whether the daily increments column adds up to the cumulative column for testing, positive, and negative results.\n",
    "    \n",
    "    If the columns are not equal, ID's the earliest date which the numbers are misaligned and fills the incremental results with the cumulative results.\n",
    "    After review, the testing df is only missing the first daily increments.\n",
    "    Still might want to add a check in case filling the earliest date is not enough to equate the two columns.\"\"\"\n",
    "    for state in states:\n",
    "        for col in range(0,len(to_fix)):\n",
    "            cumsum = df_testing.loc[df_testing['Province_State']==state].sort_values(by='Date')[to_fix[col]].cumsum()\n",
    "            actualsum = df_testing.loc[df_testing['Province_State']==state,['Date',actual[col]]].sort_values(by='Date')[actual[col]]\n",
    "            comparison = cumsum.eq(actualsum)\n",
    "            if comparison[comparison == False].count() > 0:\n",
    "                Earliest_index = comparison[comparison == False].index[0]\n",
    "                df_testing.iloc[Earliest_index,columns.get_loc(to_fix[col])] = df_testing.iloc[Earliest_index,columns.get_loc(actual[col])] "
   ]
  },
  {
   "cell_type": "code",
   "execution_count": 4,
   "metadata": {},
   "outputs": [],
   "source": [
    "state_abbrev = {\n",
    "        'AK': 'Alaska',\n",
    "        'AL': 'Alabama',\n",
    "        'AR': 'Arkansas',\n",
    "        'AS': 'American Samoa',\n",
    "        'AZ': 'Arizona',\n",
    "        'CA': 'California',\n",
    "        'CO': 'Colorado',\n",
    "        'CT': 'Connecticut',\n",
    "        'DC': 'District of Columbia',\n",
    "        'DE': 'Delaware',\n",
    "        'FL': 'Florida',\n",
    "        'GA': 'Georgia',\n",
    "        'GU': 'Guam',\n",
    "        'HI': 'Hawaii',\n",
    "        'IA': 'Iowa',\n",
    "        'ID': 'Idaho',\n",
    "        'IL': 'Illinois',\n",
    "        'IN': 'Indiana',\n",
    "        'KS': 'Kansas',\n",
    "        'KY': 'Kentucky',\n",
    "        'LA': 'Louisiana',\n",
    "        'MA': 'Massachusetts',\n",
    "        'MD': 'Maryland',\n",
    "        'ME': 'Maine',\n",
    "        'MI': 'Michigan',\n",
    "        'MN': 'Minnesota',\n",
    "        'MO': 'Missouri',\n",
    "        'MP': 'Northern Mariana Islands',\n",
    "        'MS': 'Mississippi',\n",
    "        'MT': 'Montana',\n",
    "        'NA': 'National',\n",
    "        'NC': 'North Carolina',\n",
    "        'ND': 'North Dakota',\n",
    "        'NE': 'Nebraska',\n",
    "        'NH': 'New Hampshire',\n",
    "        'NJ': 'New Jersey',\n",
    "        'NM': 'New Mexico',\n",
    "        'NV': 'Nevada',\n",
    "        'NY': 'New York',\n",
    "        'OH': 'Ohio',\n",
    "        'OK': 'Oklahoma',\n",
    "        'OR': 'Oregon',\n",
    "        'PA': 'Pennsylvania',\n",
    "        'PR': 'Puerto Rico',\n",
    "        'RI': 'Rhode Island',\n",
    "        'SC': 'South Carolina',\n",
    "        'SD': 'South Dakota',\n",
    "        'TN': 'Tennessee',\n",
    "        'TX': 'Texas',\n",
    "        'UT': 'Utah',\n",
    "        'VA': 'Virginia',\n",
    "        'VI': 'Virgin Islands',\n",
    "        'VT': 'Vermont',\n",
    "        'WA': 'Washington',\n",
    "        'WI': 'Wisconsin',\n",
    "        'WV': 'West Virginia',\n",
    "        'WY': 'Wyoming'\n",
    "}"
   ]
  },
  {
   "cell_type": "code",
   "execution_count": 5,
   "metadata": {},
   "outputs": [],
   "source": [
    "statepop_2019est = {\n",
    "        'Alaska': 731545,\n",
    "        'Alabama': 4903185,\n",
    "        'Arkansas': 3017804,\n",
    "        'American Samoa': 55312,\n",
    "        'Arizona': 7278717,\n",
    "        'California': 39512223,\n",
    "        'Colorado': 5758736,\n",
    "        'Connecticut': 3565287,\n",
    "        'District of Columbia': 705749,\n",
    "        'Delaware': 973764,\n",
    "        'Florida': 21477737,\n",
    "        'Georgia': 10617423,\n",
    "        'Guam': 167294,\n",
    "        'Hawaii': 1415872,\n",
    "        'Iowa': 3155070,\n",
    "        'Idaho': 1787065,\n",
    "        'Illinois': 12671821,\n",
    "        'Indiana': 6732219,\n",
    "        'Kansas': 2913314,\n",
    "        'Kentucky': 4467673,\n",
    "        'Louisiana': 4648794,\n",
    "        'Massachusetts': 6892503,\n",
    "        'Maryland': 6045680,\n",
    "        'Maine': 1344212,\n",
    "        'Michigan': 9986857,\n",
    "        'Minnesota': 5639632,\n",
    "        'Missouri': 6137428,\n",
    "        'Northern Mariana Islands': 57216,\n",
    "        'Mississippi': 2976149,\n",
    "        'Montana': 1068778,\n",
    "        'North Carolina': 10488084,\n",
    "        'North Dakota': 762062,\n",
    "        'Nebraska': 1934408,\n",
    "        'New Hampshire': 1359711,\n",
    "        'New Jersey': 8882190,\n",
    "        'New Mexico': 2096829,\n",
    "        'Nevada': 3080156,\n",
    "        'New York': 19453561,\n",
    "        'Ohio': 11689100,\n",
    "        'Oklahoma': 3956971,\n",
    "        'Oregon': 4217737,\n",
    "        'Pennsylvania': 12801989,\n",
    "        'Puerto Rico': 2933408,\n",
    "        'Rhode Island': 1059361,\n",
    "        'South Carolina': 5148714,\n",
    "        'South Dakota': 884659,\n",
    "        'Tennessee': 6829174,\n",
    "        'Texas': 28995881,\n",
    "        'Utah': 3205958,\n",
    "        'Virginia': 8535519,\n",
    "        'Virgin Islands': 30030,\n",
    "        'Vermont': 623989,\n",
    "        'Washington': 7614893,\n",
    "        'Wisconsin': 5822434,\n",
    "        'West Virginia': 1792147,\n",
    "        'Wyoming': 578759}"
   ]
  },
  {
   "cell_type": "code",
   "execution_count": 6,
   "metadata": {},
   "outputs": [],
   "source": [
    "fill_func(df_testing['Province_State'].unique())\n",
    "\n",
    "#Update state names\n",
    "df_testing = df_testing.replace({'Province_State':state_abbrev})\n",
    "\n",
    "#add state populations\n",
    "df_testing['Population'] = df_testing['Province_State'].map(statepop_2019est)\n",
    "\n",
    "df_testing['Date'] = pd.to_datetime(df_testing['Date'].astype(dtype = 'str'))"
   ]
  },
  {
   "cell_type": "code",
   "execution_count": 7,
   "metadata": {},
   "outputs": [],
   "source": [
    "ca_testing = df_testing[['Date','Province_State','positive','negative','hospitalizedCurrently','inIcuCurrently', 'death', 'positiveIncrease','negativeIncrease','totalTestResults','totalTestResultsIncrease','deathIncrease']].loc[df_testing['Province_State'] =='CA'].copy().reset_index(drop=True)\n",
    "ca_testing['Province_State'] = 'California'\n",
    "ca_testing = ca_testing.sort_values(by = ['Province_State','Date']).reset_index(drop=True)\n",
    "\n",
    "us_testing = df_testing[['Province_State','Date','Population','positiveIncrease','negativeIncrease', 'totalTestResultsIncrease','totalTestResults','positive','negative']]"
   ]
  },
  {
   "cell_type": "code",
   "execution_count": 8,
   "metadata": {},
   "outputs": [
    {
     "name": "stdout",
     "output_type": "stream",
     "text": [
      "All States checked\n"
     ]
    }
   ],
   "source": [
    "check = 0\n",
    "for state in df_testing['Province_State'].unique():\n",
    "    for col in range(0,len(to_fix)):\n",
    "        cumsum = df_testing.loc[df_testing['Province_State']==state].sort_values(by='Date')[to_fix[col]].cumsum()\n",
    "        actualsum = df_testing.loc[df_testing['Province_State']==state,['Date',actual[col]]].sort_values(by='Date')[actual[col]]\n",
    "        comparison = cumsum.eq(actualsum)\n",
    "        if comparison[comparison == False].count() > 0:\n",
    "            print(state, to_fix[col], actual[col])\n",
    "            check += 1\n",
    "if check == 0:\n",
    "    print('All States checked')"
   ]
  },
  {
   "cell_type": "code",
   "execution_count": 9,
   "metadata": {},
   "outputs": [
    {
     "data": {
      "text/html": [
       "<div>\n",
       "<style scoped>\n",
       "    .dataframe tbody tr th:only-of-type {\n",
       "        vertical-align: middle;\n",
       "    }\n",
       "\n",
       "    .dataframe tbody tr th {\n",
       "        vertical-align: top;\n",
       "    }\n",
       "\n",
       "    .dataframe thead th {\n",
       "        text-align: right;\n",
       "    }\n",
       "</style>\n",
       "<table border=\"1\" class=\"dataframe\">\n",
       "  <thead>\n",
       "    <tr style=\"text-align: right;\">\n",
       "      <th></th>\n",
       "      <th>Province_State</th>\n",
       "      <th>Date</th>\n",
       "      <th>Population</th>\n",
       "      <th>positiveIncrease</th>\n",
       "      <th>negativeIncrease</th>\n",
       "      <th>totalTestResultsIncrease</th>\n",
       "      <th>totalTestResults</th>\n",
       "      <th>positive</th>\n",
       "      <th>negative</th>\n",
       "    </tr>\n",
       "  </thead>\n",
       "  <tbody>\n",
       "    <tr>\n",
       "      <td>0</td>\n",
       "      <td>Alaska</td>\n",
       "      <td>2020-07-29</td>\n",
       "      <td>731545</td>\n",
       "      <td>92.0</td>\n",
       "      <td>9697.0</td>\n",
       "      <td>9789</td>\n",
       "      <td>223664</td>\n",
       "      <td>3442.0</td>\n",
       "      <td>220222.0</td>\n",
       "    </tr>\n",
       "    <tr>\n",
       "      <td>1</td>\n",
       "      <td>Alabama</td>\n",
       "      <td>2020-07-29</td>\n",
       "      <td>4903185</td>\n",
       "      <td>1416.0</td>\n",
       "      <td>1460.0</td>\n",
       "      <td>2876</td>\n",
       "      <td>668275</td>\n",
       "      <td>83782.0</td>\n",
       "      <td>584493.0</td>\n",
       "    </tr>\n",
       "    <tr>\n",
       "      <td>2</td>\n",
       "      <td>Arkansas</td>\n",
       "      <td>2020-07-29</td>\n",
       "      <td>3017804</td>\n",
       "      <td>787.0</td>\n",
       "      <td>4912.0</td>\n",
       "      <td>5699</td>\n",
       "      <td>495605</td>\n",
       "      <td>40968.0</td>\n",
       "      <td>454637.0</td>\n",
       "    </tr>\n",
       "    <tr>\n",
       "      <td>3</td>\n",
       "      <td>American Samoa</td>\n",
       "      <td>2020-07-29</td>\n",
       "      <td>55312</td>\n",
       "      <td>0.0</td>\n",
       "      <td>0.0</td>\n",
       "      <td>0</td>\n",
       "      <td>1037</td>\n",
       "      <td>0.0</td>\n",
       "      <td>1037.0</td>\n",
       "    </tr>\n",
       "    <tr>\n",
       "      <td>4</td>\n",
       "      <td>Arizona</td>\n",
       "      <td>2020-07-29</td>\n",
       "      <td>7278717</td>\n",
       "      <td>2339.0</td>\n",
       "      <td>8159.0</td>\n",
       "      <td>10498</td>\n",
       "      <td>901429</td>\n",
       "      <td>168273.0</td>\n",
       "      <td>733156.0</td>\n",
       "    </tr>\n",
       "  </tbody>\n",
       "</table>\n",
       "</div>"
      ],
      "text/plain": [
       "   Province_State       Date  Population  positiveIncrease  negativeIncrease  \\\n",
       "0          Alaska 2020-07-29      731545              92.0            9697.0   \n",
       "1         Alabama 2020-07-29     4903185            1416.0            1460.0   \n",
       "2        Arkansas 2020-07-29     3017804             787.0            4912.0   \n",
       "3  American Samoa 2020-07-29       55312               0.0               0.0   \n",
       "4         Arizona 2020-07-29     7278717            2339.0            8159.0   \n",
       "\n",
       "   totalTestResultsIncrease  totalTestResults  positive  negative  \n",
       "0                      9789            223664    3442.0  220222.0  \n",
       "1                      2876            668275   83782.0  584493.0  \n",
       "2                      5699            495605   40968.0  454637.0  \n",
       "3                         0              1037       0.0    1037.0  \n",
       "4                     10498            901429  168273.0  733156.0  "
      ]
     },
     "execution_count": 9,
     "metadata": {},
     "output_type": "execute_result"
    }
   ],
   "source": [
    "us_testing.head()"
   ]
  },
  {
   "cell_type": "code",
   "execution_count": null,
   "metadata": {},
   "outputs": [],
   "source": []
  },
  {
   "cell_type": "code",
   "execution_count": null,
   "metadata": {},
   "outputs": [],
   "source": []
  },
  {
   "cell_type": "code",
   "execution_count": 12,
   "metadata": {},
   "outputs": [],
   "source": [
    "ca_testing.to_csv(r'X:\\AC\\Documents\\Datasets\\CA_daily_pivot.csv')\n",
    "us_testing.to_csv(r'X:\\AC\\Documents\\Datasets\\US_testing_daily.csv')"
   ]
  },
  {
   "cell_type": "code",
   "execution_count": null,
   "metadata": {},
   "outputs": [],
   "source": []
  },
  {
   "cell_type": "code",
   "execution_count": null,
   "metadata": {},
   "outputs": [],
   "source": []
  },
  {
   "cell_type": "markdown",
   "metadata": {},
   "source": [
    "# Data Exploration"
   ]
  },
  {
   "cell_type": "code",
   "execution_count": null,
   "metadata": {},
   "outputs": [],
   "source": [
    "ca_daily['totalTestResultsIncrease'].isna().sum()"
   ]
  },
  {
   "cell_type": "code",
   "execution_count": null,
   "metadata": {},
   "outputs": [],
   "source": [
    "most_recent = df_testing.loc[(df_testing['Province_State']=='CA')]['Date'].max()\n",
    "last14 = [most_recent - timedelta(days=x) for x in range(14)]\n",
    "most_recent = df_testing.loc[(df_testing['Province_State']=='CA') & (df_testing['Date']==most_recent)]\n",
    "last14 = df_testing.loc[(df_testing['Province_State']=='CA') & (df_testing['Date'].isin(last14))]\n",
    "\n",
    "current_hosp = most_recent['hospitalizedCurrently'].iloc[0].astype(int)\n",
    "perc_pos = (most_recent['positive']/most_recent['totalTestResults']).iloc[0] * 100\n",
    "total_tests = most_recent['totalTestResults'].iloc[0]\n",
    "population = ca_daily['Population'][0]\n",
    "testsper1000 = total_tests/population*1000\n",
    "\n",
    "last14tests = last14['totalTestResultsIncrease'].sum()\n",
    "last14perc_pos = last14['positiveIncrease'].sum()/last14tests * 100\n",
    "\n",
    "print('California Stats as of: ', pd.datetime.strftime(most_recent['Date'].max(), '%m/%d/%y'))\n",
    "print('Total population in CA: %d' %population)\n",
    "print('\\n')\n",
    "print('Total tests conducted: %d' %total_tests)\n",
    "print('Total tests conducted per 1000 people in CA: %.2f' %testsper1000)\n",
    "print('Percentage of total tests confirmed positive: %.2f' %perc_pos,'%')\n",
    "print('Percentage of total tests confirmed negative: %.2f' %(100 - perc_pos),'%')\n",
    "print(f'Currently hospitalized: {current_hosp}')\n",
    "print('\\n')\n",
    "print('Last 14 days:')\n",
    "print('Total tests conducted in last 14 days: %d' %last14tests)\n",
    "print('Percentage of tests in last 14 days confirmed positive: %.2f' %last14perc_pos,'%')\n",
    "print('Tests conducted in last 14 days as percentage of totals tests conducted: %d' %(last14tests/total_tests*100), '%')\n",
    "print('Positives in last 14 days as percentage of total positives: %.2f' %(last14['positiveIncrease'].sum()/most_recent['positive']*100),'%')"
   ]
  },
  {
   "cell_type": "code",
   "execution_count": null,
   "metadata": {},
   "outputs": [],
   "source": []
  },
  {
   "cell_type": "code",
   "execution_count": null,
   "metadata": {},
   "outputs": [],
   "source": []
  },
  {
   "cell_type": "code",
   "execution_count": null,
   "metadata": {},
   "outputs": [],
   "source": []
  },
  {
   "cell_type": "code",
   "execution_count": null,
   "metadata": {},
   "outputs": [],
   "source": []
  },
  {
   "cell_type": "markdown",
   "metadata": {},
   "source": [
    "# Appendix"
   ]
  },
  {
   "cell_type": "code",
   "execution_count": null,
   "metadata": {},
   "outputs": [],
   "source": [
    "us_conf_daily = df_usconf.copy()\n",
    "us_dead_daily = df_usdead.copy()\n",
    "\n",
    "us_conf_daily.iloc[:,11:] = us_conf_daily.iloc[:,11:].diff(axis=1).fillna(0).astype('int')\n",
    "us_dead_daily.iloc[:,12:] = us_dead_daily.iloc[:,12:].diff(axis=1).fillna(0).astype('int')\n",
    "\n",
    "us_conf_daily = us_conf_daily.groupby(['Province_State'])[us_conf_daily.columns.to_list()[11:]].agg('sum').reset_index()\n",
    "us_dead_daily = us_dead_daily.groupby(['Province_State'])[us_dead_daily.columns.to_list()[11:]].agg('sum').reset_index()\n",
    "\n",
    "us_conf_daily = us_conf_daily.melt(id_vars = us_conf_daily.columns[:1], var_name = 'Date', value_name = 'Daily Confirmed Cases').sort_values(by = ['Province_State','Date']).reset_index(drop=True)\n",
    "us_dead_daily = us_dead_daily.melt(id_vars = us_dead_daily.columns[:2], var_name = 'Date', value_name = 'Daily Dead').sort_values(by = ['Province_State','Date']).reset_index(drop=True)\n",
    "\n",
    "us_daily = us_conf_daily.merge(us_dead_daily[['Province_State','Population','Date']], on = ['Province_State','Date'], how = 'left', suffixes = (False, False))\n",
    "us_daily = us_daily[['Province_State','Population','Date']]\n",
    "us_daily['Date'] = pd.to_datetime(us_daily['Date'])\n",
    "us_daily = us_daily.sort_values(by = ['Province_State','Date']).reset_index(drop=True)"
   ]
  },
  {
   "cell_type": "code",
   "execution_count": null,
   "metadata": {},
   "outputs": [],
   "source": [
    "#there will be discrepancies between the daily confirmed cases from JHU and from CDHP.\n",
    "#Should probably use all CDHP metrics for CA analysis and only population from JHU\n",
    "ca_daily = us_daily.loc[us_daily['Province_State']=='California'].copy().reset_index(drop=True)\n",
    "ca_daily = ca_daily.merge(ca_testing[['Province_State', 'Date','totalTestResultsIncrease','positiveIncrease','negativeIncrease','totalTestResults','positive','negative','hospitalizedCurrently','inIcuCurrently']], on = ['Province_State', 'Date'], how = 'left', suffixes = (False, False))\n",
    "\n",
    "us_daily = df_testing[['Province_State','Date','positiveIncrease','negativeIncrease', 'totalTestResultsIncrease','totalTestResults','positive','negative']]"
   ]
  },
  {
   "cell_type": "code",
   "execution_count": null,
   "metadata": {},
   "outputs": [],
   "source": [
    "df_pop = pd.read_csv(r'X:\\AC\\Documents\\Datasets\\US Census and OMB Data\\2019 State Population Estimates.csv', delimiter = ',', encoding = \"ISO-8859-1\")"
   ]
  },
  {
   "cell_type": "code",
   "execution_count": null,
   "metadata": {},
   "outputs": [],
   "source": [
    "pop_check = df_pop.merge(us_testing[['Province_State','Population']], how='inner', left_on='State Name', right_on='Province_State')"
   ]
  },
  {
   "cell_type": "code",
   "execution_count": null,
   "metadata": {},
   "outputs": [],
   "source": [
    "pop_check.drop_duplicates(inplace=True)\n",
    "pop_check['delta'] = pop_check['2019 Total Population Estimate'] - pop_check['Population']\n",
    "pop_check.loc[pop_check['delta']!=0]"
   ]
  },
  {
   "cell_type": "code",
   "execution_count": null,
   "metadata": {},
   "outputs": [],
   "source": [
    "#apply date format and convert to string\n",
    ".apply(lambda x: pd.datetime.strftime(x, '%m/%d/%y'))"
   ]
  },
  {
   "cell_type": "code",
   "execution_count": null,
   "metadata": {},
   "outputs": [],
   "source": [
    "columns = test_df.columns\n",
    "test_df.iloc[7694,columns.get_loc('totalTestResultsIncrease')] = 1\n",
    "a = np.cumsum(test_df.loc[test_df['Province_State']=='TX'].sort_values(by='Date')['totalTestResultsIncrease'].values,dtype=int)\n",
    "b = test_df.loc[test_df['Province_State']=='TX'].sort_values(by='Date')['totalTestResults'].values\n",
    "np.array_equal(a,b)"
   ]
  },
  {
   "cell_type": "code",
   "execution_count": null,
   "metadata": {},
   "outputs": [],
   "source": [
    "#filling missing starting values. May want to do this as function for all states\n",
    "df_testing.loc[(df_testing['Province_State']=='CA') & (df_testing['Date']==20200304), ['positiveIncrease','negativeIncrease','totalTestResultsIncrease']] = df_testing.loc[(df_testing['Province_State']=='CA') & (df_testing['Date']==20200304), ['positive','negative','totalTestResults']].values.tolist()"
   ]
  },
  {
   "cell_type": "code",
   "execution_count": null,
   "metadata": {},
   "outputs": [],
   "source": [
    "#Update function with secondary check\n",
    "to_fix = ['totalTestResultsIncrease','positiveIncrease','negativeIncrease']\n",
    "actual = ['totalTestResults','positive','negative']\n",
    "columns = df_testing.columns\n",
    "def fill_func(states):\n",
    "    for state in states:\n",
    "        print(state)\n",
    "        for col in range(0,len(to_fix)):\n",
    "            cumsum = df_testing.loc[df_testing['Province_State']==state].sort_values(by='Date')[to_fix[col]].cumsum()\n",
    "            actualsum = df_testing.loc[df_testing['Province_State']==state,['Date',actual[col]]].sort_values(by='Date')[actual[col]]\n",
    "            comparison = cumsum.eq(actualsum)\n",
    "            print(cumsum.iloc[0], actualsum.iloc[0], comparison.iloc[0])\n",
    "            if comparison[comparison == False].count() > 0:\n",
    "                Earliest_index = comparison[comparison == False].index[0]\n",
    "                df_testing.iloc[Earliest_index,columns.get_loc(to_fix[col])] = df_testing.iloc[Earliest_index,columns.get_loc(actual[col])]\n",
    "                print('Fixed in first: ', state,to_fix[col],actual[col])\n",
    "            else:\n",
    "                print('Arrays are equal')\n",
    "            cumsum = df_testing.loc[df_testing['Province_State']==state].sort_values(by='Date')[to_fix[col]].cumsum()\n",
    "            actualsum = df_testing.loc[df_testing['Province_State']==state,['Date',actual[col]]].sort_values(by='Date')[actual[col]]\n",
    "            comparison = cumsum.eq(actualsum)\n",
    "            if comparison[comparison == False].count() == 0:\n",
    "                print('Confirmed arrays are fixed')\n",
    "            else:\n",
    "                print('Failed check: ', state,to_fix[col],actual[col] ,'\\n')"
   ]
  },
  {
   "cell_type": "code",
   "execution_count": null,
   "metadata": {},
   "outputs": [],
   "source": [
    "#['Province_State', 'Date','totalTestResultsIncrease','positiveIncrease','negativeIncrease','totalTestResults','positive','negative','hospitalizedCurrently','inIcuCurrently']\n",
    "#hospitalized currently missing values from american samoa, Hawaii, Kansas, northern marinas, virginia\n",
    "#inincu currently missing values from 28 states/provinces\n",
    "df_testing.loc[df_testing['Date']=='2020-07-21',['Province_State', 'Date','totalTestResultsIncrease','positiveIncrease','negativeIncrease','totalTestResults','positive','negative','hospitalizedCurrently','inIcuCurrently']]"
   ]
  },
  {
   "cell_type": "code",
   "execution_count": null,
   "metadata": {},
   "outputs": [],
   "source": [
    "cumsum = df_testing.loc[df_testing['Province_State']=='NV'].sort_values(by='Date')['totalTestResultsIncrease'].cumsum()\n",
    "actualsum = df_testing.loc[df_testing['Province_State']=='NV',['Date','totalTestResults']].sort_values(by='Date')['totalTestResults']\n",
    "check = cumsum.eq(actualsum)\n",
    "check[check==False].sum()"
   ]
  }
 ],
 "metadata": {
  "kernelspec": {
   "display_name": "Python 3",
   "language": "python",
   "name": "python3"
  },
  "language_info": {
   "codemirror_mode": {
    "name": "ipython",
    "version": 3
   },
   "file_extension": ".py",
   "mimetype": "text/x-python",
   "name": "python",
   "nbconvert_exporter": "python",
   "pygments_lexer": "ipython3",
   "version": "3.7.4"
  }
 },
 "nbformat": 4,
 "nbformat_minor": 2
}
