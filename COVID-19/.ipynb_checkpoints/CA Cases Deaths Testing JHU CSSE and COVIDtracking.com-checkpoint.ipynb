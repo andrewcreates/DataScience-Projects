{
 "cells": [
  {
   "cell_type": "code",
   "execution_count": null,
   "metadata": {},
   "outputs": [],
   "source": [
    "#all you're getting from the JHU data is population. Create a dictionary or df to add population to testing df"
   ]
  },
  {
   "cell_type": "code",
   "execution_count": 1,
   "metadata": {},
   "outputs": [],
   "source": [
    "import pandas as pd\n",
    "import numpy as np\n",
    "import seaborn as sns\n",
    "import matplotlib.pyplot as plt\n",
    "%matplotlib inline\n",
    "\n",
    "from collections import Counter\n",
    "from datetime import timedelta\n",
    "\n",
    "pd.options.display.max_columns = None"
   ]
  },
  {
   "cell_type": "code",
   "execution_count": 2,
   "metadata": {},
   "outputs": [],
   "source": [
    "url = 'https://raw.githubusercontent.com/CSSEGISandData/COVID-19/master/csse_covid_19_data/csse_covid_19_time_series/time_series_covid19_confirmed_US.csv'\n",
    "url2 = 'https://raw.githubusercontent.com/CSSEGISandData/COVID-19/master/csse_covid_19_data/csse_covid_19_time_series/time_series_covid19_deaths_US.csv'\n",
    "df_usconf = pd.read_csv(url,error_bad_lines = False)\n",
    "df_usdead = pd.read_csv(url2,error_bad_lines = False)\n",
    "\n",
    "url3 = 'https://covidtracking.com/api/v1/states/daily.csv'\n",
    "df_testing = pd.read_csv(url3,error_bad_lines = False)\n",
    "df_testing = df_testing.rename(columns = {'date':'Date','state':'Province_State'})\n",
    "df_testing[['totalTestResultsIncrease','positiveIncrease','negativeIncrease','totalTestResults','positive','negative']] = df_testing[['totalTestResultsIncrease','positiveIncrease','negativeIncrease','totalTestResults','positive','negative']].fillna(0)"
   ]
  },
  {
   "cell_type": "code",
   "execution_count": 3,
   "metadata": {},
   "outputs": [],
   "source": [
    "to_fix = ['totalTestResultsIncrease','positiveIncrease','negativeIncrease']\n",
    "actual = ['totalTestResults','positive','negative']\n",
    "columns = df_testing.columns\n",
    "def fill_func(states):\n",
    "    \"\"\"Checks whether the daily increments column adds up to the cumulative column for testing, positive, and negative results.\n",
    "    \n",
    "    If the columns are not equal, ID's the earliest date which the numbers are misaligned and fills the incremental results with the cumulative results.\n",
    "    After review, the testing df is only missing the first daily increments.\n",
    "    Still might want to add a check in case filling the earliest date is not enough to equate the two columns.\"\"\"\n",
    "    for state in states:\n",
    "        for col in range(0,len(to_fix)):\n",
    "            cumsum = df_testing.loc[df_testing['Province_State']==state].sort_values(by='Date')[to_fix[col]].cumsum()\n",
    "            actualsum = df_testing.loc[df_testing['Province_State']==state,['Date',actual[col]]].sort_values(by='Date')[actual[col]]\n",
    "            comparison = cumsum.eq(actualsum)\n",
    "            if comparison[comparison == False].count() > 0:\n",
    "                Earliest_index = comparison[comparison == False].index[0]\n",
    "                df_testing.iloc[Earliest_index,columns.get_loc(to_fix[col])] = df_testing.iloc[Earliest_index,columns.get_loc(actual[col])] "
   ]
  },
  {
   "cell_type": "code",
   "execution_count": 4,
   "metadata": {},
   "outputs": [],
   "source": [
    "fill_func(df_testing['Province_State'].unique())\n",
    "\n",
    "df_testing['Date'] = pd.to_datetime(df_testing['Date'].astype(dtype = 'str'))\n",
    "\n",
    "ca_testing = df_testing[['Date','Province_State','positive','negative','hospitalizedCurrently','inIcuCurrently', 'death', 'positiveIncrease','negativeIncrease','totalTestResults','totalTestResultsIncrease','deathIncrease']].loc[df_testing['Province_State'] =='CA'].copy().reset_index(drop=True)\n",
    "ca_testing['Province_State'] = 'California'\n",
    "ca_testing = ca_testing.sort_values(by = ['Province_State','Date']).reset_index(drop=True)"
   ]
  },
  {
   "cell_type": "code",
   "execution_count": 5,
   "metadata": {},
   "outputs": [],
   "source": [
    "us_conf_daily = df_usconf.copy()\n",
    "us_dead_daily = df_usdead.copy()\n",
    "\n",
    "us_conf_daily.iloc[:,11:] = us_conf_daily.iloc[:,11:].diff(axis=1).fillna(0).astype('int')\n",
    "us_dead_daily.iloc[:,12:] = us_dead_daily.iloc[:,12:].diff(axis=1).fillna(0).astype('int')\n",
    "\n",
    "us_conf_daily = us_conf_daily.groupby(['Province_State'])[us_conf_daily.columns.to_list()[11:]].agg('sum').reset_index()\n",
    "us_dead_daily = us_dead_daily.groupby(['Province_State'])[us_dead_daily.columns.to_list()[11:]].agg('sum').reset_index()\n",
    "\n",
    "us_conf_daily = us_conf_daily.melt(id_vars = us_conf_daily.columns[:1], var_name = 'Date', value_name = 'Daily Confirmed Cases').sort_values(by = ['Province_State','Date']).reset_index(drop=True)\n",
    "us_dead_daily = us_dead_daily.melt(id_vars = us_dead_daily.columns[:2], var_name = 'Date', value_name = 'Daily Dead').sort_values(by = ['Province_State','Date']).reset_index(drop=True)\n",
    "\n",
    "us_daily = us_conf_daily.merge(us_dead_daily[['Province_State','Population','Date']], on = ['Province_State','Date'], how = 'left', suffixes = (False, False))\n",
    "us_daily = us_daily[['Province_State','Population','Date']]\n",
    "us_daily['Date'] = pd.to_datetime(us_daily['Date'])\n",
    "us_daily = us_daily.sort_values(by = ['Province_State','Date']).reset_index(drop=True)"
   ]
  },
  {
   "cell_type": "code",
   "execution_count": 6,
   "metadata": {},
   "outputs": [],
   "source": [
    "#there will be discrepancies between the daily confirmed cases from JHU and from CDHP.\n",
    "#Should probably use all CDHP metrics for CA analysis and only population from JHU\n",
    "ca_daily = us_daily.loc[us_daily['Province_State']=='California'].copy().reset_index(drop=True)\n",
    "ca_daily = ca_daily.merge(ca_testing[['Province_State', 'Date','totalTestResultsIncrease','positiveIncrease','negativeIncrease','totalTestResults','positive','negative','hospitalizedCurrently','inIcuCurrently']], on = ['Province_State', 'Date'], how = 'left', suffixes = (False, False))\n",
    "\n",
    "us_daily = df_testing[['Province_State','Date','positiveIncrease','negativeIncrease', 'totalTestResultsIncrease','totalTestResults','positive','negative']].head()"
   ]
  },
  {
   "cell_type": "code",
   "execution_count": 11,
   "metadata": {},
   "outputs": [
    {
     "name": "stdout",
     "output_type": "stream",
     "text": [
      "All States checked\n"
     ]
    }
   ],
   "source": [
    "check = 0\n",
    "for state in df_testing['Province_State'].unique():\n",
    "    for col in range(0,len(to_fix)):\n",
    "        cumsum = df_testing.loc[df_testing['Province_State']==state].sort_values(by='Date')[to_fix[col]].cumsum()\n",
    "        actualsum = df_testing.loc[df_testing['Province_State']==state,['Date',actual[col]]].sort_values(by='Date')[actual[col]]\n",
    "        comparison = cumsum.eq(actualsum)\n",
    "        if comparison[comparison == False].count() > 0:\n",
    "            print(state, to_fix[col], actual[col])\n",
    "            check += 1\n",
    "if check == 0:\n",
    "    print('All States checked')"
   ]
  },
  {
   "cell_type": "code",
   "execution_count": 21,
   "metadata": {},
   "outputs": [],
   "source": [
    "ca_daily.to_csv(r'X:\\AC\\Documents\\Datasets\\CA_daily_pivot.csv')"
   ]
  },
  {
   "cell_type": "code",
   "execution_count": null,
   "metadata": {},
   "outputs": [],
   "source": []
  },
  {
   "cell_type": "code",
   "execution_count": null,
   "metadata": {},
   "outputs": [],
   "source": []
  },
  {
   "cell_type": "markdown",
   "metadata": {},
   "source": [
    "# Data Exploration"
   ]
  },
  {
   "cell_type": "code",
   "execution_count": null,
   "metadata": {},
   "outputs": [],
   "source": [
    "ca_daily['totalTestResultsIncrease'].isna().sum()"
   ]
  },
  {
   "cell_type": "code",
   "execution_count": 28,
   "metadata": {},
   "outputs": [
    {
     "name": "stdout",
     "output_type": "stream",
     "text": [
      "California Stats as of:  07/27/20\n",
      "Total population in CA: 39512223\n",
      "\n",
      "\n",
      "Total tests conducted: 7296578\n",
      "Total tests conducted per 1000 people in CA: 184.67\n",
      "Percentage of total tests confirmed positive: 6.31 %\n",
      "Percentage of total tests confirmed negative: 93.69 %\n",
      "Currently hospitalized: 8820\n",
      "\n",
      "\n",
      "Last 14 days:\n",
      "Total tests conducted in last 14 days: 1752213\n",
      "Percentage of tests in last 14 days confirmed positive: 7.50 %\n",
      "Tests conducted in last 14 days as percentage of totals tests conducted: 24 %\n",
      "Positives in last 14 days as percentage of total positives: 28.53 %\n"
     ]
    }
   ],
   "source": [
    "most_recent = df_testing.loc[(df_testing['Province_State']=='CA')]['Date'].max()\n",
    "last14 = [most_recent - timedelta(days=x) for x in range(14)]\n",
    "most_recent = df_testing.loc[(df_testing['Province_State']=='CA') & (df_testing['Date']==most_recent)]\n",
    "last14 = df_testing.loc[(df_testing['Province_State']=='CA') & (df_testing['Date'].isin(last14))]\n",
    "\n",
    "current_hosp = most_recent['hospitalizedCurrently'].iloc[0].astype(int)\n",
    "perc_pos = (most_recent['positive']/most_recent['totalTestResults']).iloc[0] * 100\n",
    "total_tests = most_recent['totalTestResults'].iloc[0]\n",
    "population = ca_daily['Population'][0]\n",
    "testsper1000 = total_tests/population*1000\n",
    "\n",
    "last14tests = last14['totalTestResultsIncrease'].sum()\n",
    "last14perc_pos = last14['positiveIncrease'].sum()/last14tests * 100\n",
    "\n",
    "print('California Stats as of: ', pd.datetime.strftime(most_recent['Date'].max(), '%m/%d/%y'))\n",
    "print('Total population in CA: %d' %population)\n",
    "print('\\n')\n",
    "print('Total tests conducted: %d' %total_tests)\n",
    "print('Total tests conducted per 1000 people in CA: %.2f' %testsper1000)\n",
    "print('Percentage of total tests confirmed positive: %.2f' %perc_pos,'%')\n",
    "print('Percentage of total tests confirmed negative: %.2f' %(100 - perc_pos),'%')\n",
    "print(f'Currently hospitalized: {current_hosp}')\n",
    "print('\\n')\n",
    "print('Last 14 days:')\n",
    "print('Total tests conducted in last 14 days: %d' %last14tests)\n",
    "print('Percentage of tests in last 14 days confirmed positive: %.2f' %last14perc_pos,'%')\n",
    "print('Tests conducted in last 14 days as percentage of totals tests conducted: %d' %(last14tests/total_tests*100), '%')\n",
    "print('Positives in last 14 days as percentage of total positives: %.2f' %(last14['positiveIncrease'].sum()/most_recent['positive']*100),'%')"
   ]
  },
  {
   "cell_type": "code",
   "execution_count": null,
   "metadata": {},
   "outputs": [],
   "source": []
  },
  {
   "cell_type": "code",
   "execution_count": null,
   "metadata": {},
   "outputs": [],
   "source": []
  },
  {
   "cell_type": "code",
   "execution_count": null,
   "metadata": {},
   "outputs": [],
   "source": []
  },
  {
   "cell_type": "code",
   "execution_count": null,
   "metadata": {},
   "outputs": [],
   "source": []
  },
  {
   "cell_type": "markdown",
   "metadata": {},
   "source": [
    "# Appendix"
   ]
  },
  {
   "cell_type": "code",
   "execution_count": null,
   "metadata": {},
   "outputs": [],
   "source": [
    "states = {\n",
    "        'AK': 'Alaska',\n",
    "        'AL': 'Alabama',\n",
    "        'AR': 'Arkansas',\n",
    "        'AS': 'American Samoa',\n",
    "        'AZ': 'Arizona',\n",
    "        'CA': 'California',\n",
    "        'CO': 'Colorado',\n",
    "        'CT': 'Connecticut',\n",
    "        'DC': 'District of Columbia',\n",
    "        'DE': 'Delaware',\n",
    "        'FL': 'Florida',\n",
    "        'GA': 'Georgia',\n",
    "        'GU': 'Guam',\n",
    "        'HI': 'Hawaii',\n",
    "        'IA': 'Iowa',\n",
    "        'ID': 'Idaho',\n",
    "        'IL': 'Illinois',\n",
    "        'IN': 'Indiana',\n",
    "        'KS': 'Kansas',\n",
    "        'KY': 'Kentucky',\n",
    "        'LA': 'Louisiana',\n",
    "        'MA': 'Massachusetts',\n",
    "        'MD': 'Maryland',\n",
    "        'ME': 'Maine',\n",
    "        'MI': 'Michigan',\n",
    "        'MN': 'Minnesota',\n",
    "        'MO': 'Missouri',\n",
    "        'MP': 'Northern Mariana Islands',\n",
    "        'MS': 'Mississippi',\n",
    "        'MT': 'Montana',\n",
    "        'NA': 'National',\n",
    "        'NC': 'North Carolina',\n",
    "        'ND': 'North Dakota',\n",
    "        'NE': 'Nebraska',\n",
    "        'NH': 'New Hampshire',\n",
    "        'NJ': 'New Jersey',\n",
    "        'NM': 'New Mexico',\n",
    "        'NV': 'Nevada',\n",
    "        'NY': 'New York',\n",
    "        'OH': 'Ohio',\n",
    "        'OK': 'Oklahoma',\n",
    "        'OR': 'Oregon',\n",
    "        'PA': 'Pennsylvania',\n",
    "        'PR': 'Puerto Rico',\n",
    "        'RI': 'Rhode Island',\n",
    "        'SC': 'South Carolina',\n",
    "        'SD': 'South Dakota',\n",
    "        'TN': 'Tennessee',\n",
    "        'TX': 'Texas',\n",
    "        'UT': 'Utah',\n",
    "        'VA': 'Virginia',\n",
    "        'VI': 'Virgin Islands',\n",
    "        'VT': 'Vermont',\n",
    "        'WA': 'Washington',\n",
    "        'WI': 'Wisconsin',\n",
    "        'WV': 'West Virginia',\n",
    "        'WY': 'Wyoming'\n",
    "}\n",
    "\n",
    "df_testing = df_testing.replace({'Province_State':states})"
   ]
  },
  {
   "cell_type": "code",
   "execution_count": null,
   "metadata": {},
   "outputs": [],
   "source": []
  },
  {
   "cell_type": "code",
   "execution_count": null,
   "metadata": {},
   "outputs": [],
   "source": [
    "#apply date format and convert to string\n",
    ".apply(lambda x: pd.datetime.strftime(x, '%m/%d/%y'))"
   ]
  },
  {
   "cell_type": "code",
   "execution_count": null,
   "metadata": {},
   "outputs": [],
   "source": [
    "columns = test_df.columns\n",
    "test_df.iloc[7694,columns.get_loc('totalTestResultsIncrease')] = 1\n",
    "a = np.cumsum(test_df.loc[test_df['Province_State']=='TX'].sort_values(by='Date')['totalTestResultsIncrease'].values,dtype=int)\n",
    "b = test_df.loc[test_df['Province_State']=='TX'].sort_values(by='Date')['totalTestResults'].values\n",
    "np.array_equal(a,b)"
   ]
  },
  {
   "cell_type": "code",
   "execution_count": null,
   "metadata": {},
   "outputs": [],
   "source": [
    "#filling missing starting values. May want to do this as function for all states\n",
    "df_testing.loc[(df_testing['Province_State']=='CA') & (df_testing['Date']==20200304), ['positiveIncrease','negativeIncrease','totalTestResultsIncrease']] = df_testing.loc[(df_testing['Province_State']=='CA') & (df_testing['Date']==20200304), ['positive','negative','totalTestResults']].values.tolist()"
   ]
  },
  {
   "cell_type": "code",
   "execution_count": null,
   "metadata": {},
   "outputs": [],
   "source": [
    "#Update function with secondary check\n",
    "to_fix = ['totalTestResultsIncrease','positiveIncrease','negativeIncrease']\n",
    "actual = ['totalTestResults','positive','negative']\n",
    "columns = df_testing.columns\n",
    "def fill_func(states):\n",
    "    for state in states:\n",
    "        print(state)\n",
    "        for col in range(0,len(to_fix)):\n",
    "            cumsum = df_testing.loc[df_testing['Province_State']==state].sort_values(by='Date')[to_fix[col]].cumsum()\n",
    "            actualsum = df_testing.loc[df_testing['Province_State']==state,['Date',actual[col]]].sort_values(by='Date')[actual[col]]\n",
    "            comparison = cumsum.eq(actualsum)\n",
    "            print(cumsum.iloc[0], actualsum.iloc[0], comparison.iloc[0])\n",
    "            if comparison[comparison == False].count() > 0:\n",
    "                Earliest_index = comparison[comparison == False].index[0]\n",
    "                df_testing.iloc[Earliest_index,columns.get_loc(to_fix[col])] = df_testing.iloc[Earliest_index,columns.get_loc(actual[col])]\n",
    "                print('Fixed in first: ', state,to_fix[col],actual[col])\n",
    "            else:\n",
    "                print('Arrays are equal')\n",
    "            cumsum = df_testing.loc[df_testing['Province_State']==state].sort_values(by='Date')[to_fix[col]].cumsum()\n",
    "            actualsum = df_testing.loc[df_testing['Province_State']==state,['Date',actual[col]]].sort_values(by='Date')[actual[col]]\n",
    "            comparison = cumsum.eq(actualsum)\n",
    "            if comparison[comparison == False].count() == 0:\n",
    "                print('Confirmed arrays are fixed')\n",
    "            else:\n",
    "                print('Failed check: ', state,to_fix[col],actual[col] ,'\\n')"
   ]
  },
  {
   "cell_type": "code",
   "execution_count": null,
   "metadata": {},
   "outputs": [],
   "source": [
    "#['Province_State', 'Date','totalTestResultsIncrease','positiveIncrease','negativeIncrease','totalTestResults','positive','negative','hospitalizedCurrently','inIcuCurrently']\n",
    "#hospitalized currently missing values from american samoa, Hawaii, Kansas, northern marinas, virginia\n",
    "#inincu currently missing values from 28 states/provinces\n",
    "df_testing.loc[df_testing['Date']=='2020-07-21',['Province_State', 'Date','totalTestResultsIncrease','positiveIncrease','negativeIncrease','totalTestResults','positive','negative','hospitalizedCurrently','inIcuCurrently']]"
   ]
  },
  {
   "cell_type": "code",
   "execution_count": null,
   "metadata": {},
   "outputs": [],
   "source": [
    "cumsum = df_testing.loc[df_testing['Province_State']=='NV'].sort_values(by='Date')['totalTestResultsIncrease'].cumsum()\n",
    "actualsum = df_testing.loc[df_testing['Province_State']=='NV',['Date','totalTestResults']].sort_values(by='Date')['totalTestResults']\n",
    "check = cumsum.eq(actualsum)\n",
    "check[check==False].sum()"
   ]
  }
 ],
 "metadata": {
  "kernelspec": {
   "display_name": "Python 3",
   "language": "python",
   "name": "python3"
  },
  "language_info": {
   "codemirror_mode": {
    "name": "ipython",
    "version": 3
   },
   "file_extension": ".py",
   "mimetype": "text/x-python",
   "name": "python",
   "nbconvert_exporter": "python",
   "pygments_lexer": "ipython3",
   "version": "3.7.4"
  }
 },
 "nbformat": 4,
 "nbformat_minor": 2
}
