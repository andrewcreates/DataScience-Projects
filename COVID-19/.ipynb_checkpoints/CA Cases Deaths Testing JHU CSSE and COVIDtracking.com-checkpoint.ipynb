{
 "cells": [
  {
   "cell_type": "code",
   "execution_count": 2,
   "metadata": {},
   "outputs": [],
   "source": [
    "import pandas as pd\n",
    "import numpy as np\n",
    "import seaborn as sns\n",
    "import matplotlib.pyplot as plt\n",
    "%matplotlib inline\n",
    "\n",
    "from collections import Counter\n",
    "\n",
    "pd.options.display.max_columns = None"
   ]
  },
  {
   "cell_type": "code",
   "execution_count": 3,
   "metadata": {},
   "outputs": [],
   "source": [
    "url = 'https://raw.githubusercontent.com/CSSEGISandData/COVID-19/master/csse_covid_19_data/csse_covid_19_time_series/time_series_covid19_confirmed_US.csv'\n",
    "url2 = 'https://raw.githubusercontent.com/CSSEGISandData/COVID-19/master/csse_covid_19_data/csse_covid_19_time_series/time_series_covid19_deaths_US.csv'\n",
    "df_usconf = pd.read_csv(url,error_bad_lines = False)\n",
    "df_usdead = pd.read_csv(url2,error_bad_lines = False)"
   ]
  },
  {
   "cell_type": "code",
   "execution_count": 4,
   "metadata": {},
   "outputs": [],
   "source": [
    "url = 'https://covidtracking.com/api/v1/states/daily.csv'\n",
    "df_testing = pd.read_csv(url,error_bad_lines = False)\n",
    "df_testing = df_testing.rename(columns = {'date':'Date','state':'Province_State'})\n",
    "\n",
    "#filling missing starting values. May want to do this as function for all states\n",
    "df_testing.loc[(df_testing['Province_State']=='CA') & (df_testing['Date']==20200304), ['positiveIncrease','negativeIncrease','totalTestResultsIncrease']] = df_testing.loc[(df_testing['Province_State']=='CA') & (df_testing['Date']==20200304), ['positive','negative','totalTestResults']].values.tolist()\n",
    "\n",
    "ca_testing = df_testing[['Date','Province_State','positive','negative','hospitalizedCurrently','inIcuCurrently', 'death', 'positiveIncrease','negativeIncrease','totalTestResults','totalTestResultsIncrease','deathIncrease']].loc[df_testing['Province_State'] =='CA'].copy().reset_index(drop=True)\n",
    "ca_testing['Date'] = pd.to_datetime(ca_testing['Date'].astype(dtype = 'str'))\n",
    "ca_testing['Province_State'] = 'California'\n",
    "ca_testing = ca_testing.sort_values(by = ['Province_State','Date']).reset_index(drop=True)"
   ]
  },
  {
   "cell_type": "code",
   "execution_count": 5,
   "metadata": {},
   "outputs": [],
   "source": [
    "us_conf_daily = df_usconf.copy()\n",
    "us_dead_daily = df_usdead.copy()\n",
    "\n",
    "us_conf_daily.iloc[:,11:] = us_conf_daily.iloc[:,11:].diff(axis=1).fillna(0).astype('int')\n",
    "us_dead_daily.iloc[:,12:] = us_dead_daily.iloc[:,12:].diff(axis=1).fillna(0).astype('int')\n",
    "\n",
    "us_conf_daily = us_conf_daily.groupby(['Province_State'])[us_conf_daily.columns.to_list()[11:]].agg('sum').reset_index()\n",
    "us_dead_daily = us_dead_daily.groupby(['Province_State'])[us_dead_daily.columns.to_list()[11:]].agg('sum').reset_index()\n",
    "\n",
    "us_conf_daily = us_conf_daily.melt(id_vars = us_conf_daily.columns[:1], var_name = 'Date', value_name = 'Daily Confirmed Cases').sort_values(by = ['Province_State','Date']).reset_index(drop=True)\n",
    "us_dead_daily = us_dead_daily.melt(id_vars = us_dead_daily.columns[:2], var_name = 'Date', value_name = 'Daily Dead').sort_values(by = ['Province_State','Date']).reset_index(drop=True)\n",
    "\n",
    "us_daily = us_conf_daily.merge(us_dead_daily[['Province_State','Population','Date','Daily Dead']], on = ['Province_State','Date'], how = 'left', suffixes = (False, False))\n",
    "us_daily = us_daily[['Province_State','Population','Date', 'Daily Confirmed Cases','Daily Dead']]\n",
    "us_daily['Date'] = pd.to_datetime(us_daily['Date'])\n",
    "us_daily = us_daily.sort_values(by = ['Province_State','Date']).reset_index(drop=True)\n",
    "ca_daily = us_daily.loc[us_daily['Province_State']=='California'].copy().reset_index(drop=True)\n",
    "\n",
    "ca_daily = ca_daily.merge(ca_testing[['Province_State', 'Date','totalTestResults','totalTestResultsIncrease','positiveIncrease','negativeIncrease','hospitalizedCurrently','inIcuCurrently']], on = ['Province_State', 'Date'], how = 'left', suffixes = (False, False))"
   ]
  },
  {
   "cell_type": "code",
   "execution_count": null,
   "metadata": {},
   "outputs": [],
   "source": []
  },
  {
   "cell_type": "code",
   "execution_count": null,
   "metadata": {},
   "outputs": [],
   "source": []
  },
  {
   "cell_type": "code",
   "execution_count": 184,
   "metadata": {},
   "outputs": [],
   "source": [
    "ca_daily.to_csv(r'X:\\AC\\Documents\\Datasets\\CA_daily_pivot.csv')"
   ]
  },
  {
   "cell_type": "code",
   "execution_count": null,
   "metadata": {},
   "outputs": [],
   "source": []
  },
  {
   "cell_type": "markdown",
   "metadata": {},
   "source": [
    "# Data Exploration"
   ]
  },
  {
   "cell_type": "code",
   "execution_count": 6,
   "metadata": {},
   "outputs": [
    {
     "name": "stdout",
     "output_type": "stream",
     "text": [
      "As of:  20200713\n",
      "\n",
      "\n",
      "Total tests conducted: 5544365\n",
      "Total tests conducted per 1000 people in CA: 140.32\n",
      "Percentage of total tests confirmed positive: 5.94 %\n",
      "Percentage of total tests confirmed negative: 94.06 %\n",
      "Currently hospitalized: 7895\n",
      "Total population in CA: 39512223\n"
     ]
    }
   ],
   "source": [
    "most_recent = df_testing.loc[(df_testing['Province_State']=='CA')]['Date'].max()\n",
    "most_recent = df_testing.loc[(df_testing['Province_State']=='CA') & (df_testing['Date']==most_recent)]\n",
    "most_recent\n",
    "\n",
    "current_hosp = most_recent['hospitalizedCurrently'].iloc[0].astype(int)\n",
    "perc_pos = (most_recent['positive']/most_recent['totalTestResults']).iloc[0]\n",
    "total_tests = ca_daily['totalTestResults'][-1:]\n",
    "population = ca_daily['Population'][0]\n",
    "testsper1000 = total_tests/population*1000\n",
    "\n",
    "print('As of: ', df_testing.loc[(df_testing['Province_State']=='CA')]['Date'].max())\n",
    "print('\\n')\n",
    "print('Total tests conducted: %d' %total_tests)\n",
    "print('Total tests conducted per 1000 people in CA: %.2f' %testsper1000)\n",
    "print('Percentage of total tests confirmed positive: %.2f' %(perc_pos * 100),'%')\n",
    "print('Percentage of total tests confirmed negative: %.2f' %(100 - (perc_pos * 100)),'%')\n",
    "print(f'Currently hospitalized: {current_hosp}')\n",
    "print('Total population in CA: %d' %population)"
   ]
  },
  {
   "cell_type": "code",
   "execution_count": 109,
   "metadata": {},
   "outputs": [
    {
     "data": {
      "text/html": [
       "<div>\n",
       "<style scoped>\n",
       "    .dataframe tbody tr th:only-of-type {\n",
       "        vertical-align: middle;\n",
       "    }\n",
       "\n",
       "    .dataframe tbody tr th {\n",
       "        vertical-align: top;\n",
       "    }\n",
       "\n",
       "    .dataframe thead th {\n",
       "        text-align: right;\n",
       "    }\n",
       "</style>\n",
       "<table border=\"1\" class=\"dataframe\">\n",
       "  <thead>\n",
       "    <tr style=\"text-align: right;\">\n",
       "      <th></th>\n",
       "      <th>Province_State</th>\n",
       "      <th>Population</th>\n",
       "      <th>Date</th>\n",
       "      <th>Daily Confirmed Cases</th>\n",
       "      <th>Daily Dead</th>\n",
       "      <th>totalTestResults</th>\n",
       "      <th>totalTestResultsIncrease</th>\n",
       "      <th>positiveIncrease</th>\n",
       "      <th>negativeIncrease</th>\n",
       "      <th>hospitalizedCurrently</th>\n",
       "      <th>inIcuCurrently</th>\n",
       "    </tr>\n",
       "  </thead>\n",
       "  <tbody>\n",
       "    <tr>\n",
       "      <td>164</td>\n",
       "      <td>California</td>\n",
       "      <td>39512223</td>\n",
       "      <td>2020-07-04</td>\n",
       "      <td>2381</td>\n",
       "      <td>19</td>\n",
       "      <td>4553031.0</td>\n",
       "      <td>104855.0</td>\n",
       "      <td>6510.0</td>\n",
       "      <td>98345.0</td>\n",
       "      <td>7092.0</td>\n",
       "      <td>1888.0</td>\n",
       "    </tr>\n",
       "    <tr>\n",
       "      <td>165</td>\n",
       "      <td>California</td>\n",
       "      <td>39512223</td>\n",
       "      <td>2020-07-05</td>\n",
       "      <td>11786</td>\n",
       "      <td>39</td>\n",
       "      <td>4680138.0</td>\n",
       "      <td>127107.0</td>\n",
       "      <td>5410.0</td>\n",
       "      <td>121697.0</td>\n",
       "      <td>7149.0</td>\n",
       "      <td>1907.0</td>\n",
       "    </tr>\n",
       "    <tr>\n",
       "      <td>166</td>\n",
       "      <td>California</td>\n",
       "      <td>39512223</td>\n",
       "      <td>2020-07-06</td>\n",
       "      <td>6354</td>\n",
       "      <td>68</td>\n",
       "      <td>4793353.0</td>\n",
       "      <td>113215.0</td>\n",
       "      <td>11529.0</td>\n",
       "      <td>101686.0</td>\n",
       "      <td>7278.0</td>\n",
       "      <td>1937.0</td>\n",
       "    </tr>\n",
       "    <tr>\n",
       "      <td>167</td>\n",
       "      <td>California</td>\n",
       "      <td>39512223</td>\n",
       "      <td>2020-07-07</td>\n",
       "      <td>12977</td>\n",
       "      <td>132</td>\n",
       "      <td>4896370.0</td>\n",
       "      <td>103017.0</td>\n",
       "      <td>6090.0</td>\n",
       "      <td>96927.0</td>\n",
       "      <td>7499.0</td>\n",
       "      <td>1984.0</td>\n",
       "    </tr>\n",
       "    <tr>\n",
       "      <td>168</td>\n",
       "      <td>California</td>\n",
       "      <td>39512223</td>\n",
       "      <td>2020-07-08</td>\n",
       "      <td>8548</td>\n",
       "      <td>145</td>\n",
       "      <td>4996175.0</td>\n",
       "      <td>99805.0</td>\n",
       "      <td>11694.0</td>\n",
       "      <td>88111.0</td>\n",
       "      <td>7705.0</td>\n",
       "      <td>1976.0</td>\n",
       "    </tr>\n",
       "  </tbody>\n",
       "</table>\n",
       "</div>"
      ],
      "text/plain": [
       "    Province_State  Population       Date  Daily Confirmed Cases  Daily Dead  \\\n",
       "164     California    39512223 2020-07-04                   2381          19   \n",
       "165     California    39512223 2020-07-05                  11786          39   \n",
       "166     California    39512223 2020-07-06                   6354          68   \n",
       "167     California    39512223 2020-07-07                  12977         132   \n",
       "168     California    39512223 2020-07-08                   8548         145   \n",
       "\n",
       "     totalTestResults  totalTestResultsIncrease  positiveIncrease  \\\n",
       "164         4553031.0                  104855.0            6510.0   \n",
       "165         4680138.0                  127107.0            5410.0   \n",
       "166         4793353.0                  113215.0           11529.0   \n",
       "167         4896370.0                  103017.0            6090.0   \n",
       "168         4996175.0                   99805.0           11694.0   \n",
       "\n",
       "     negativeIncrease  hospitalizedCurrently  inIcuCurrently  \n",
       "164           98345.0                 7092.0          1888.0  \n",
       "165          121697.0                 7149.0          1907.0  \n",
       "166          101686.0                 7278.0          1937.0  \n",
       "167           96927.0                 7499.0          1984.0  \n",
       "168           88111.0                 7705.0          1976.0  "
      ]
     },
     "execution_count": 109,
     "metadata": {},
     "output_type": "execute_result"
    }
   ],
   "source": [
    "#why are the daily confirmed cases and positive increases not lining up?\n",
    "#discrepancy is from data sources. Even the cdph dashboards reporting different numbers than their tests dataset\n",
    "ca_daily.tail()"
   ]
  },
  {
   "cell_type": "code",
   "execution_count": null,
   "metadata": {},
   "outputs": [],
   "source": []
  },
  {
   "cell_type": "code",
   "execution_count": null,
   "metadata": {},
   "outputs": [],
   "source": []
  },
  {
   "cell_type": "code",
   "execution_count": null,
   "metadata": {},
   "outputs": [],
   "source": []
  },
  {
   "cell_type": "code",
   "execution_count": null,
   "metadata": {},
   "outputs": [],
   "source": []
  }
 ],
 "metadata": {
  "kernelspec": {
   "display_name": "Python 3",
   "language": "python",
   "name": "python3"
  },
  "language_info": {
   "codemirror_mode": {
    "name": "ipython",
    "version": 3
   },
   "file_extension": ".py",
   "mimetype": "text/x-python",
   "name": "python",
   "nbconvert_exporter": "python",
   "pygments_lexer": "ipython3",
   "version": "3.7.4"
  }
 },
 "nbformat": 4,
 "nbformat_minor": 2
}
