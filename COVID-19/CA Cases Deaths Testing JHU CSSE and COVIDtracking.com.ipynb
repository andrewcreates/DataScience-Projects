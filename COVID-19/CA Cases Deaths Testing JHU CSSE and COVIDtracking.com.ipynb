{
 "cells": [
  {
   "cell_type": "code",
   "execution_count": 17,
   "metadata": {},
   "outputs": [],
   "source": [
    "import pandas as pd\n",
    "import numpy as np\n",
    "import seaborn as sns\n",
    "import matplotlib.pyplot as plt\n",
    "%matplotlib inline\n",
    "\n",
    "from collections import Counter\n",
    "from datetime import timedelta\n",
    "\n",
    "pd.options.display.max_columns = None"
   ]
  },
  {
   "cell_type": "code",
   "execution_count": 18,
   "metadata": {},
   "outputs": [],
   "source": [
    "url = 'https://raw.githubusercontent.com/CSSEGISandData/COVID-19/master/csse_covid_19_data/csse_covid_19_time_series/time_series_covid19_confirmed_US.csv'\n",
    "url2 = 'https://raw.githubusercontent.com/CSSEGISandData/COVID-19/master/csse_covid_19_data/csse_covid_19_time_series/time_series_covid19_deaths_US.csv'\n",
    "df_usconf = pd.read_csv(url,error_bad_lines = False)\n",
    "df_usdead = pd.read_csv(url2,error_bad_lines = False)"
   ]
  },
  {
   "cell_type": "code",
   "execution_count": 19,
   "metadata": {},
   "outputs": [],
   "source": [
    "url = 'https://covidtracking.com/api/v1/states/daily.csv'\n",
    "df_testing = pd.read_csv(url,error_bad_lines = False)\n",
    "df_testing = df_testing.rename(columns = {'date':'Date','state':'Province_State'})\n",
    "\n",
    "#filling missing starting values. May want to do this as function for all states\n",
    "df_testing.loc[(df_testing['Province_State']=='CA') & (df_testing['Date']==20200304), ['positiveIncrease','negativeIncrease','totalTestResultsIncrease']] = df_testing.loc[(df_testing['Province_State']=='CA') & (df_testing['Date']==20200304), ['positive','negative','totalTestResults']].values.tolist()\n",
    "\n",
    "df_testing['Date'] = pd.to_datetime(df_testing['Date'].astype(dtype = 'str'))\n",
    "\n",
    "ca_testing = df_testing[['Date','Province_State','positive','negative','hospitalizedCurrently','inIcuCurrently', 'death', 'positiveIncrease','negativeIncrease','totalTestResults','totalTestResultsIncrease','deathIncrease']].loc[df_testing['Province_State'] =='CA'].copy().reset_index(drop=True)\n",
    "ca_testing['Province_State'] = 'California'\n",
    "ca_testing = ca_testing.sort_values(by = ['Province_State','Date']).reset_index(drop=True)"
   ]
  },
  {
   "cell_type": "code",
   "execution_count": 20,
   "metadata": {},
   "outputs": [],
   "source": [
    "us_conf_daily = df_usconf.copy()\n",
    "us_dead_daily = df_usdead.copy()\n",
    "\n",
    "us_conf_daily.iloc[:,11:] = us_conf_daily.iloc[:,11:].diff(axis=1).fillna(0).astype('int')\n",
    "us_dead_daily.iloc[:,12:] = us_dead_daily.iloc[:,12:].diff(axis=1).fillna(0).astype('int')\n",
    "\n",
    "us_conf_daily = us_conf_daily.groupby(['Province_State'])[us_conf_daily.columns.to_list()[11:]].agg('sum').reset_index()\n",
    "us_dead_daily = us_dead_daily.groupby(['Province_State'])[us_dead_daily.columns.to_list()[11:]].agg('sum').reset_index()\n",
    "\n",
    "us_conf_daily = us_conf_daily.melt(id_vars = us_conf_daily.columns[:1], var_name = 'Date', value_name = 'Daily Confirmed Cases').sort_values(by = ['Province_State','Date']).reset_index(drop=True)\n",
    "us_dead_daily = us_dead_daily.melt(id_vars = us_dead_daily.columns[:2], var_name = 'Date', value_name = 'Daily Dead').sort_values(by = ['Province_State','Date']).reset_index(drop=True)\n",
    "\n",
    "us_daily = us_conf_daily.merge(us_dead_daily[['Province_State','Population','Date','Daily Dead']], on = ['Province_State','Date'], how = 'left', suffixes = (False, False))\n",
    "us_daily = us_daily[['Province_State','Population','Date', 'Daily Confirmed Cases','Daily Dead']]\n",
    "us_daily['Date'] = pd.to_datetime(us_daily['Date'])\n",
    "us_daily = us_daily.sort_values(by = ['Province_State','Date']).reset_index(drop=True)\n",
    "ca_daily = us_daily.loc[us_daily['Province_State']=='California'].copy().reset_index(drop=True)\n",
    "\n",
    "ca_daily = ca_daily.merge(ca_testing[['Province_State', 'Date','totalTestResults','totalTestResultsIncrease','positiveIncrease','negativeIncrease','hospitalizedCurrently','inIcuCurrently']], on = ['Province_State', 'Date'], how = 'left', suffixes = (False, False))"
   ]
  },
  {
   "cell_type": "code",
   "execution_count": 21,
   "metadata": {},
   "outputs": [],
   "source": [
    "ca_daily.to_csv(r'X:\\AC\\Documents\\Datasets\\CA_daily_pivot.csv')"
   ]
  },
  {
   "cell_type": "code",
   "execution_count": null,
   "metadata": {},
   "outputs": [],
   "source": []
  },
  {
   "cell_type": "code",
   "execution_count": null,
   "metadata": {},
   "outputs": [],
   "source": []
  },
  {
   "cell_type": "markdown",
   "metadata": {},
   "source": [
    "# Data Exploration"
   ]
  },
  {
   "cell_type": "code",
   "execution_count": 16,
   "metadata": {},
   "outputs": [
    {
     "name": "stdout",
     "output_type": "stream",
     "text": [
      "California Stats as of:  2020-07-14 00:00:00\n",
      "Total population in CA: 39512223\n",
      "\n",
      "\n",
      "Total tests conducted: 5544365\n",
      "Total tests conducted per 1000 people in CA: 140.32\n",
      "Percentage of total tests confirmed positive: 5.93 %\n",
      "Percentage of total tests confirmed negative: 94.07 %\n",
      "Currently hospitalized: 8145\n",
      "\n",
      "\n",
      "Last 14 days:\n",
      "Total tests conducted in last 14 days: 1482673\n",
      "Percentage of tests in last 14 days confirmed positive: 7.60 %\n"
     ]
    }
   ],
   "source": [
    "most_recent = df_testing.loc[(df_testing['Province_State']=='CA')]['Date'].max()\n",
    "most_recent = df_testing.loc[(df_testing['Province_State']=='CA') & (df_testing['Date']==most_recent)]\n",
    "last14 = [ca_daily['Date'].max() - timedelta(days=x) for x in range(14)]\n",
    "last14 = df_testing.loc[(df_testing['Province_State']=='CA') & (df_testing['Date'].isin(last14))]\n",
    "\n",
    "current_hosp = most_recent['hospitalizedCurrently'].iloc[0].astype(int)\n",
    "perc_pos = (most_recent['positive']/most_recent['totalTestResults']).iloc[0] * 100\n",
    "total_tests = ca_daily['totalTestResults'][-1:]\n",
    "population = ca_daily['Population'][0]\n",
    "testsper1000 = total_tests/population*1000\n",
    "\n",
    "last14tests = last14['totalTestResultsIncrease'].sum()\n",
    "last14perc_pos = last14['positiveIncrease'].sum()/last14tests * 100\n",
    "\n",
    "print('California Stats as of: ', df_testing.loc[(df_testing['Province_State']=='CA')]['Date'].max())\n",
    "print('Total population in CA: %d' %population)\n",
    "print('\\n')\n",
    "print('Total tests conducted: %d' %total_tests)\n",
    "print('Total tests conducted per 1000 people in CA: %.2f' %testsper1000)\n",
    "print('Percentage of total tests confirmed positive: %.2f' %perc_pos,'%')\n",
    "print('Percentage of total tests confirmed negative: %.2f' %(100 - perc_pos),'%')\n",
    "print(f'Currently hospitalized: {current_hosp}')\n",
    "print('\\n')\n",
    "print('Last 14 days:')\n",
    "print('Total tests conducted in last 14 days: %d' %last14tests)\n",
    "print('Percentage of tests in last 14 days confirmed positive: %.2f' %last14perc_pos,'%')"
   ]
  },
  {
   "cell_type": "code",
   "execution_count": null,
   "metadata": {},
   "outputs": [],
   "source": [
    "#why are the daily confirmed cases and positive increases not lining up?\n",
    "#discrepancy is from data sources. Even the cdph dashboards reporting different numbers than their tests dataset\n",
    "ca_daily.tail()"
   ]
  },
  {
   "cell_type": "code",
   "execution_count": null,
   "metadata": {},
   "outputs": [],
   "source": []
  },
  {
   "cell_type": "code",
   "execution_count": null,
   "metadata": {},
   "outputs": [],
   "source": []
  },
  {
   "cell_type": "code",
   "execution_count": null,
   "metadata": {},
   "outputs": [],
   "source": []
  },
  {
   "cell_type": "code",
   "execution_count": null,
   "metadata": {},
   "outputs": [],
   "source": []
  },
  {
   "cell_type": "markdown",
   "metadata": {},
   "source": [
    "# Appendix"
   ]
  },
  {
   "cell_type": "code",
   "execution_count": null,
   "metadata": {},
   "outputs": [],
   "source": [
    "#apply date format and convert to string\n",
    ".apply(lambda x: pd.datetime.strftime(x, '%m/%d/%y'))"
   ]
  }
 ],
 "metadata": {
  "kernelspec": {
   "display_name": "Python 3",
   "language": "python",
   "name": "python3"
  },
  "language_info": {
   "codemirror_mode": {
    "name": "ipython",
    "version": 3
   },
   "file_extension": ".py",
   "mimetype": "text/x-python",
   "name": "python",
   "nbconvert_exporter": "python",
   "pygments_lexer": "ipython3",
   "version": "3.7.4"
  }
 },
 "nbformat": 4,
 "nbformat_minor": 2
}
